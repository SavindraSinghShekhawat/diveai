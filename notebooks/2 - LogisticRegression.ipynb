{
 "cells": [
  {
   "cell_type": "code",
   "execution_count": 1,
   "metadata": {},
   "outputs": [],
   "source": [
    "%load_ext autoreload\n",
    "%autoreload 2"
   ]
  },
  {
   "cell_type": "code",
   "execution_count": 12,
   "metadata": {},
   "outputs": [],
   "source": [
    "import numpy as np\n",
    "from diveai.plotting import PlotBuilder, HeatmapPlotBuilder\n",
    "from diveai.models import LogisticRegression\n",
    "from diveai.metrics import accuracy_score, r2_score"
   ]
  },
  {
   "cell_type": "markdown",
   "metadata": {},
   "source": [
    "# Logistic Regression"
   ]
  },
  {
   "cell_type": "markdown",
   "metadata": {},
   "source": [
    "## One Feature"
   ]
  },
  {
   "cell_type": "code",
   "execution_count": 3,
   "metadata": {},
   "outputs": [],
   "source": [
    "np.random.seed(0)\n",
    "X = np.random.randn(100, 1)\n",
    "y = (X.flatten() + np.random.randn(100)*0.5 > 0).astype(int)"
   ]
  },
  {
   "cell_type": "code",
   "execution_count": 4,
   "metadata": {},
   "outputs": [
    {
     "data": {
      "application/vnd.jupyter.widget-view+json": {
       "model_id": "497ad36215b74616bce4fc376a5c33cb",
       "version_major": 2,
       "version_minor": 0
      },
      "text/plain": [
       "FigureWidget({\n",
       "    'data': [{'marker': {'color': 'navy', 'opacity': 1, 'size': 10, 'symbol': 'circle'},\n",
       "              'mode': 'markers',\n",
       "              'name': 'Class 0',\n",
       "              'type': 'scatter',\n",
       "              'uid': '3299da5d-306e-4442-9931-888d907d1109',\n",
       "              'x': array([ 0.40015721, -0.97727788, -0.15135721, -0.20515826, -0.85409574,\n",
       "                          -2.55298982, -0.74216502, -1.45436567,  0.04575852,  0.15494743,\n",
       "                          -0.88778575, -1.98079647, -0.34791215, -0.38732682, -0.30230275,\n",
       "                          -1.04855297, -1.42001794, -1.70627019, -1.25279536, -1.61389785,\n",
       "                          -0.21274028, -0.89546656, -0.51080514, -1.18063218, -0.02818223,\n",
       "                           0.3024719 , -0.63432209, -0.36274117, -0.67246045, -0.81314628,\n",
       "                          -1.7262826 ,  0.17742614, -1.63019835,  0.46278226, -0.90729836,\n",
       "                          -1.23482582,  0.40234164, -0.68481009, -0.87079715, -0.57884966,\n",
       "                          -0.31155253, -1.16514984, -1.53624369, -0.17992484, -1.07075262,\n",
       "                          -0.40317695]),\n",
       "              'y': array([0., 0., 0., 0., 0., 0., 0., 0., 0., 0., 0., 0., 0., 0., 0., 0., 0., 0.,\n",
       "                          0., 0., 0., 0., 0., 0., 0., 0., 0., 0., 0., 0., 0., 0., 0., 0., 0., 0.,\n",
       "                          0., 0., 0., 0., 0., 0., 0., 0., 0., 0.])},\n",
       "             {'marker': {'color': 'green', 'opacity': 1, 'size': 10, 'symbol': 'triangle-up'},\n",
       "              'mode': 'markers',\n",
       "              'name': 'Class 1',\n",
       "              'type': 'scatter',\n",
       "              'uid': 'ac599f82-0d4e-4895-9104-c95f81e7b281',\n",
       "              'x': array([ 1.76405235,  0.97873798,  2.2408932 ,  1.86755799,  0.95008842,\n",
       "                          -0.10321885,  0.4105985 ,  0.14404357,  1.45427351,  0.76103773,\n",
       "                           0.12167502,  0.44386323,  0.33367433,  1.49407907,  0.3130677 ,\n",
       "                           0.6536186 ,  0.8644362 ,  2.26975462, -0.18718385,  1.53277921,\n",
       "                           1.46935877,  0.37816252,  0.15634897,  1.23029068,  1.20237985,\n",
       "                           1.9507754 , -0.50965218, -0.4380743 ,  0.77749036,  0.3869025 ,\n",
       "                           0.42833187,  0.06651722, -0.35955316, -0.40178094,  0.0519454 ,\n",
       "                           0.72909056,  0.12898291,  1.13940068,  0.05616534,  0.90082649,\n",
       "                           0.46566244,  1.48825219,  1.89588918,  1.17877957,  1.05445173,\n",
       "                           1.22244507,  0.20827498,  0.97663904,  0.3563664 ,  0.70657317,\n",
       "                           0.01050002,  1.78587049,  0.12691209,  0.40198936]),\n",
       "              'y': array([1., 1., 1., 1., 1., 1., 1., 1., 1., 1., 1., 1., 1., 1., 1., 1., 1., 1.,\n",
       "                          1., 1., 1., 1., 1., 1., 1., 1., 1., 1., 1., 1., 1., 1., 1., 1., 1., 1.,\n",
       "                          1., 1., 1., 1., 1., 1., 1., 1., 1., 1., 1., 1., 1., 1., 1., 1., 1., 1.])}],\n",
       "    'layout': {'template': '...',\n",
       "               'title': {'text': 'Synthetic Data for Logistic Regression'},\n",
       "               'xaxis': {'title': {'text': 'Feature'}},\n",
       "               'yaxis': {'title': {'text': 'Target'}}}\n",
       "})"
      ]
     },
     "metadata": {},
     "output_type": "display_data"
    }
   ],
   "source": [
    "pb = PlotBuilder(title=\"Synthetic Data for Logistic Regression\", x_label=\"Feature\", y_label=\"Target\")\n",
    "class_0, class_1 = X[y == 0].flatten(), X[y == 1].flatten()\n",
    "pb.add_plot(class_0, np.zeros_like(class_0), plot_type='scatter', label='Class 0', marker_symbol='circle', color='navy', size=10)\n",
    "pb.add_plot(class_1, np.ones_like(class_1), plot_type='scatter', label='Class 1', marker_symbol='triangle-up', color='green', size=10)\n",
    "pb.show()"
   ]
  },
  {
   "cell_type": "code",
   "execution_count": 8,
   "metadata": {},
   "outputs": [
    {
     "name": "stdout",
     "output_type": "stream",
     "text": [
      "Predictions: [1 1 1 1 1 0 1 0 0 1 1 1 1 1 1 1 1 0 1 0 0 1 1 0 1 0 1 0 1 1 1 1 0 0 0 1 1\n",
      " 1 0 0 0 0 0 1 0 0 0 1 0 0 0 1 0 0 1 1 1 1 0 0 0 0 0 0 1 0 0 1 0 1 1 1 1 0\n",
      " 1 0 0 0 0 1 0 1 1 0 1 1 1 0 0 1 0 1 1 1 1 1 1 1 1 1]\n",
      "Accuracy: 0.86\n"
     ]
    }
   ],
   "source": [
    "model = LogisticRegression(learning_rate=0.1, iterations=2000)\n",
    "logs = model.fit(X, y)\n",
    "\n",
    "y_pred = model.predict(X)\n",
    "\n",
    "accuracy = accuracy_score(y.flatten(), y_pred.flatten())\n",
    "\n",
    "# Print results\n",
    "print(\"Predictions:\", y_pred.flatten())\n",
    "print(\"Accuracy:\", accuracy)"
   ]
  },
  {
   "cell_type": "code",
   "execution_count": 6,
   "metadata": {},
   "outputs": [
    {
     "data": {
      "application/vnd.jupyter.widget-view+json": {
       "model_id": "6384b89a2e804c6fa65589a74640d9df",
       "version_major": 2,
       "version_minor": 0
      },
      "text/plain": [
       "FigureWidget({\n",
       "    'data': [{'line': {'color': 'red'},\n",
       "              'marker': {'color': 'red', 'opacity': 1, 'size': 5},\n",
       "              'mode': 'lines',\n",
       "              'name': 'MSE',\n",
       "              'type': 'scatter',\n",
       "              'uid': 'd98c250d-3604-4993-80a3-a8ced6298310',\n",
       "              'x': array([   0,    1,    2, ..., 1997, 1998, 1999], shape=(2000,)),\n",
       "              'y': [0.6931471805599453, 0.6798097995671618, 0.6671513149038113,\n",
       "                    ..., 0.3097984132651487, 0.30979835465153754,\n",
       "                    0.3097982962421187]}],\n",
       "    'layout': {'template': '...',\n",
       "               'title': {'text': 'Cross Entropy Loss vs. Iterations'},\n",
       "               'xaxis': {'title': {'text': 'Iterations'}},\n",
       "               'yaxis': {'title': {'text': 'Cross Entropy Loss'}}}\n",
       "})"
      ]
     },
     "metadata": {},
     "output_type": "display_data"
    }
   ],
   "source": [
    "cost_logs = logs['cost']\n",
    "\n",
    "pb = PlotBuilder(title=\"Cross Entropy Loss vs. Iterations\", x_label=\"Iterations\", y_label=\"Cross Entropy Loss\")\n",
    "pb.add_plot(np.arange(len(cost_logs)), cost_logs, plot_type='line', label='MSE')\n",
    "pb.show()"
   ]
  },
  {
   "cell_type": "code",
   "execution_count": 7,
   "metadata": {},
   "outputs": [
    {
     "data": {
      "application/vnd.jupyter.widget-view+json": {
       "model_id": "d280cd149534402c9b6344dc23fded44",
       "version_major": 2,
       "version_minor": 0
      },
      "text/plain": [
       "FigureWidget({\n",
       "    'data': [{'marker': {'color': 'navy', 'opacity': 1, 'size': 10, 'symbol': 'circle'},\n",
       "              'mode': 'markers',\n",
       "              'name': 'Class 0',\n",
       "              'type': 'scatter',\n",
       "              'uid': '26507cbe-ff60-4b56-aa8f-d3b271c0b56d',\n",
       "              'x': array([ 0.40015721, -0.97727788, -0.15135721, -0.20515826, -0.85409574,\n",
       "                          -2.55298982, -0.74216502, -1.45436567,  0.04575852,  0.15494743,\n",
       "                          -0.88778575, -1.98079647, -0.34791215, -0.38732682, -0.30230275,\n",
       "                          -1.04855297, -1.42001794, -1.70627019, -1.25279536, -1.61389785,\n",
       "                          -0.21274028, -0.89546656, -0.51080514, -1.18063218, -0.02818223,\n",
       "                           0.3024719 , -0.63432209, -0.36274117, -0.67246045, -0.81314628,\n",
       "                          -1.7262826 ,  0.17742614, -1.63019835,  0.46278226, -0.90729836,\n",
       "                          -1.23482582,  0.40234164, -0.68481009, -0.87079715, -0.57884966,\n",
       "                          -0.31155253, -1.16514984, -1.53624369, -0.17992484, -1.07075262,\n",
       "                          -0.40317695]),\n",
       "              'y': array([0., 0., 0., 0., 0., 0., 0., 0., 0., 0., 0., 0., 0., 0., 0., 0., 0., 0.,\n",
       "                          0., 0., 0., 0., 0., 0., 0., 0., 0., 0., 0., 0., 0., 0., 0., 0., 0., 0.,\n",
       "                          0., 0., 0., 0., 0., 0., 0., 0., 0., 0.])},\n",
       "             {'marker': {'color': 'green', 'opacity': 1, 'size': 10, 'symbol': 'triangle-up'},\n",
       "              'mode': 'markers',\n",
       "              'name': 'Class 1',\n",
       "              'type': 'scatter',\n",
       "              'uid': 'c4704864-ce26-4353-bdad-3e5e111564d4',\n",
       "              'x': array([ 1.76405235,  0.97873798,  2.2408932 ,  1.86755799,  0.95008842,\n",
       "                          -0.10321885,  0.4105985 ,  0.14404357,  1.45427351,  0.76103773,\n",
       "                           0.12167502,  0.44386323,  0.33367433,  1.49407907,  0.3130677 ,\n",
       "                           0.6536186 ,  0.8644362 ,  2.26975462, -0.18718385,  1.53277921,\n",
       "                           1.46935877,  0.37816252,  0.15634897,  1.23029068,  1.20237985,\n",
       "                           1.9507754 , -0.50965218, -0.4380743 ,  0.77749036,  0.3869025 ,\n",
       "                           0.42833187,  0.06651722, -0.35955316, -0.40178094,  0.0519454 ,\n",
       "                           0.72909056,  0.12898291,  1.13940068,  0.05616534,  0.90082649,\n",
       "                           0.46566244,  1.48825219,  1.89588918,  1.17877957,  1.05445173,\n",
       "                           1.22244507,  0.20827498,  0.97663904,  0.3563664 ,  0.70657317,\n",
       "                           0.01050002,  1.78587049,  0.12691209,  0.40198936]),\n",
       "              'y': array([1., 1., 1., 1., 1., 1., 1., 1., 1., 1., 1., 1., 1., 1., 1., 1., 1., 1.,\n",
       "                          1., 1., 1., 1., 1., 1., 1., 1., 1., 1., 1., 1., 1., 1., 1., 1., 1., 1.,\n",
       "                          1., 1., 1., 1., 1., 1., 1., 1., 1., 1., 1., 1., 1., 1., 1., 1., 1., 1.])},\n",
       "             {'line': {'color': 'red'},\n",
       "              'marker': {'color': 'red', 'opacity': 1, 'size': 5},\n",
       "              'mode': 'lines',\n",
       "              'name': 'Probabilities',\n",
       "              'type': 'scatter',\n",
       "              'uid': '44cd6b46-29dc-46dc-ace6-1e8c328cea1a',\n",
       "              'x': array([-2.55298982, -1.98079647, -1.7262826 , -1.70627019, -1.63019835,\n",
       "                          -1.61389785, -1.53624369, -1.45436567, -1.42001794, -1.25279536,\n",
       "                          -1.23482582, -1.18063218, -1.16514984, -1.07075262, -1.04855297,\n",
       "                          -0.97727788, -0.90729836, -0.89546656, -0.88778575, -0.87079715,\n",
       "                          -0.85409574, -0.81314628, -0.74216502, -0.68481009, -0.67246045,\n",
       "                          -0.63432209, -0.57884966, -0.51080514, -0.50965218, -0.4380743 ,\n",
       "                          -0.40317695, -0.40178094, -0.38732682, -0.36274117, -0.35955316,\n",
       "                          -0.34791215, -0.31155253, -0.30230275, -0.21274028, -0.20515826,\n",
       "                          -0.18718385, -0.17992484, -0.15135721, -0.10321885, -0.02818223,\n",
       "                           0.01050002,  0.04575852,  0.0519454 ,  0.05616534,  0.06651722,\n",
       "                           0.12167502,  0.12691209,  0.12898291,  0.14404357,  0.15494743,\n",
       "                           0.15634897,  0.17742614,  0.20827498,  0.3024719 ,  0.3130677 ,\n",
       "                           0.33367433,  0.3563664 ,  0.37816252,  0.3869025 ,  0.40015721,\n",
       "                           0.40198936,  0.40234164,  0.4105985 ,  0.42833187,  0.44386323,\n",
       "                           0.46278226,  0.46566244,  0.6536186 ,  0.70657317,  0.72909056,\n",
       "                           0.76103773,  0.77749036,  0.8644362 ,  0.90082649,  0.95008842,\n",
       "                           0.97663904,  0.97873798,  1.05445173,  1.13940068,  1.17877957,\n",
       "                           1.20237985,  1.22244507,  1.23029068,  1.45427351,  1.46935877,\n",
       "                           1.48825219,  1.49407907,  1.53277921,  1.76405235,  1.78587049,\n",
       "                           1.86755799,  1.89588918,  1.9507754 ,  2.2408932 ,  2.26975462]),\n",
       "              'y': array([1.20409681e-04, 9.52272585e-04, 2.38658270e-03, 2.56520647e-03,\n",
       "                          3.37456837e-03, 3.57869274e-03, 4.73319008e-03, 6.35348008e-03,\n",
       "                          7.18753539e-03, 1.30788364e-02, 1.39445296e-02, 1.69118128e-02,\n",
       "                          1.78680836e-02, 2.49549049e-02, 2.69841754e-02, 3.46413259e-02,\n",
       "                          4.41740156e-02, 4.60158626e-02, 4.72504164e-02, 5.00937139e-02,\n",
       "                          5.30463890e-02, 6.09949825e-02, 7.74582071e-02, 9.36360451e-02,\n",
       "                          9.74948362e-02, 1.10319223e-01, 1.31595801e-01, 1.62341963e-01,\n",
       "                          1.62909630e-01, 2.01339365e-01, 2.22393595e-01, 2.23267675e-01,\n",
       "                          2.32461314e-01, 2.48696795e-01, 2.50856685e-01, 2.58848895e-01,\n",
       "                          2.84855891e-01, 2.91717371e-01, 3.62797713e-01, 3.69158460e-01,\n",
       "                          3.84417057e-01, 3.90646275e-01, 4.15491478e-01, 4.58281354e-01,\n",
       "                          5.25985042e-01, 5.60672259e-01, 5.91789753e-01, 5.97182206e-01,\n",
       "                          6.00846943e-01, 6.09788398e-01, 6.56074131e-01, 6.60333884e-01,\n",
       "                          6.62011169e-01, 6.74085501e-01, 6.82686418e-01, 6.83783114e-01,\n",
       "                          7.00025157e-01, 7.22912056e-01, 7.85754974e-01, 7.92133541e-01,\n",
       "                          8.04134456e-01, 8.16735073e-01, 8.28237405e-01, 8.32686267e-01,\n",
       "                          8.39256855e-01, 8.40148487e-01, 8.40319465e-01, 8.44284635e-01,\n",
       "                          8.52528977e-01, 8.59450035e-01, 8.67511393e-01, 8.68703687e-01,\n",
       "                          9.28846699e-01, 9.40507310e-01, 9.44902549e-01, 9.50616030e-01,\n",
       "                          9.53334886e-01, 9.65487944e-01, 9.69613384e-01, 9.74444208e-01,\n",
       "                          9.76728924e-01, 9.76900791e-01, 9.82334742e-01, 9.86945320e-01,\n",
       "                          9.88658087e-01, 9.89576056e-01, 9.90298421e-01, 9.90567190e-01,\n",
       "                          9.95780881e-01, 9.96003939e-01, 9.96266810e-01, 9.96344351e-01,\n",
       "                          9.96820164e-01, 9.98619484e-01, 9.98724067e-01, 9.99050044e-01,\n",
       "                          9.99142453e-01, 9.99296697e-01, 9.99753512e-01, 9.99777931e-01])},\n",
       "             {'line': {'color': 'black'},\n",
       "              'marker': {'color': 'black', 'opacity': 1, 'size': 5},\n",
       "              'mode': 'lines',\n",
       "              'name': 'Decision Boundary (X=-0.06)',\n",
       "              'type': 'scatter',\n",
       "              'uid': '007b61dc-2ee9-46ed-94ea-9dd4923df426',\n",
       "              'x': [-0.056956384026425756, -0.056956384026425756],\n",
       "              'y': [-0.2, 1.2]}],\n",
       "    'layout': {'template': '...',\n",
       "               'title': {'text': 'Logistic Regression Classification'},\n",
       "               'xaxis': {'title': {'text': 'Feature'}},\n",
       "               'yaxis': {'title': {'text': 'Predicted Probability'}}}\n",
       "})"
      ]
     },
     "metadata": {},
     "output_type": "display_data"
    }
   ],
   "source": [
    "probabilities = model.predict_proba(X)\n",
    "sorted_idx = np.argsort(X.flatten())\n",
    "X_sorted = X[sorted_idx]\n",
    "prob_sorted = probabilities[sorted_idx]\n",
    "\n",
    "class_0, class_1 = X[y == 0].flatten(), X[y == 1].flatten()\n",
    "\n",
    "pb = PlotBuilder(title=\"Logistic Regression Classification\", x_label=\"Feature\", y_label=\"Predicted Probability\")\n",
    "\n",
    "pb.add_plot(class_0, np.zeros_like(class_0), plot_type='scatter', label='Class 0', marker_symbol='circle', color='navy', size=10)\n",
    "pb.add_plot(class_1, np.ones_like(class_1), plot_type='scatter', label='Class 1', marker_symbol='triangle-up', color='green', size=10)\n",
    "\n",
    "pb.add_plot(X_sorted.flatten(), prob_sorted.flatten(), plot_type='line', label='Probabilities', color='red')\n",
    "\n",
    "# Calculate actual decision boundary point (where probability = 0.5)\n",
    "intercept = model.bias\n",
    "coef = model.weights[0][0]\n",
    "boundary_x = -intercept/coef if coef != 0 else 0\n",
    "\n",
    "pb.add_plot([boundary_x, boundary_x], [-0.2, 1.2], plot_type='line', color='black', label=f'Decision Boundary (X={boundary_x:.2f})')\n",
    "pb.show()"
   ]
  },
  {
   "cell_type": "code",
   "execution_count": 14,
   "metadata": {},
   "outputs": [
    {
     "data": {
      "application/vnd.jupyter.widget-view+json": {
       "model_id": "4c5cabf9a0e546c8a4b7a7c04c81fef8",
       "version_major": 2,
       "version_minor": 0
      },
      "text/plain": [
       "FigureWidget({\n",
       "    'data': [{'colorscale': [[0.0, 'rgb(247,252,245)'], [0.125,\n",
       "                             'rgb(229,245,224)'], [0.25, 'rgb(199,233,192)'],\n",
       "                             [0.375, 'rgb(161,217,155)'], [0.5,\n",
       "                             'rgb(116,196,118)'], [0.625, 'rgb(65,171,93)'], [0.75,\n",
       "                             'rgb(35,139,69)'], [0.875, 'rgb(0,109,44)'], [1.0,\n",
       "                             'rgb(0,68,27)']],\n",
       "              'hoverinfo': 'x+y+z',\n",
       "              'showscale': True,\n",
       "              'text': array([[45,  5],\n",
       "                             [ 3, 47]]),\n",
       "              'texttemplate': '%{z}',\n",
       "              'type': 'heatmap',\n",
       "              'uid': 'af65c137-b73f-4e53-a319-f55485675e20',\n",
       "              'x': [Cat, Dog],\n",
       "              'y': [Cat, Dog],\n",
       "              'z': array([[45,  5],\n",
       "                          [ 3, 47]])}],\n",
       "    'layout': {'margin': {'b': 100, 'l': 100, 'r': 50, 't': 30},\n",
       "               'plot_bgcolor': 'white',\n",
       "               'template': '...',\n",
       "               'xaxis': {'showgrid': False, 'title': {'text': 'Predicted'}},\n",
       "               'yaxis': {'autorange': 'reversed', 'showgrid': False, 'title': {'text': 'Actual'}}}\n",
       "})"
      ]
     },
     "metadata": {},
     "output_type": "display_data"
    }
   ],
   "source": [
    "cm = np.array([[45, 5], [3, 47]])\n",
    "hb = HeatmapPlotBuilder(colorscale='Greens', show_scale=True)\n",
    "hb.add_confusion_matrix(cm, class_labels=['Cat', 'Dog'])\n",
    "hb.show()\n"
   ]
  }
 ],
 "metadata": {
  "kernelspec": {
   "display_name": "diveai",
   "language": "python",
   "name": "diveai"
  },
  "language_info": {
   "codemirror_mode": {
    "name": "ipython",
    "version": 3
   },
   "file_extension": ".py",
   "mimetype": "text/x-python",
   "name": "python",
   "nbconvert_exporter": "python",
   "pygments_lexer": "ipython3",
   "version": "3.11.9"
  }
 },
 "nbformat": 4,
 "nbformat_minor": 4
}
