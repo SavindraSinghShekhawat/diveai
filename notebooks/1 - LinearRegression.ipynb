{
 "cells": [
  {
   "cell_type": "code",
   "execution_count": 18,
   "metadata": {},
   "outputs": [
    {
     "name": "stdout",
     "output_type": "stream",
     "text": [
      "The autoreload extension is already loaded. To reload it, use:\n",
      "  %reload_ext autoreload\n"
     ]
    }
   ],
   "source": [
    "%load_ext autoreload\n",
    "%autoreload 2"
   ]
  },
  {
   "cell_type": "code",
   "execution_count": 19,
   "metadata": {},
   "outputs": [],
   "source": [
    "import numpy as np"
   ]
  },
  {
   "cell_type": "code",
   "execution_count": 20,
   "metadata": {},
   "outputs": [],
   "source": [
    "from diveai.metrics import mean_squared_error, r2_score\n",
    "from diveai.models import LinearRegression\n",
    "from diveai.visualization import PlotBuilder"
   ]
  },
  {
   "cell_type": "code",
   "execution_count": 21,
   "metadata": {
    "editable": true,
    "slideshow": {
     "slide_type": ""
    },
    "tags": []
   },
   "outputs": [
    {
     "name": "stdout",
     "output_type": "stream",
     "text": [
      "Initializing Linear Regression Model with Dive Mode Enabled\n",
      "\n",
      "Step 1: Understanding the Cost Function\n",
      "The cost function used is Mean Squared Error (MSE):\n",
      "J(w, b) = (1/m) * Σ(y - y_pred)^2\n",
      "This measures how far our predictions are from the actual values.\n",
      "\n",
      "Step 2: Deriving Gradients for Optimization\n",
      "To minimize the cost function J(w, b), we compute its partial derivatives:\n",
      "∂J/∂w = -(1/m) * Σ(X.T * (y - y_pred))\n",
      "∂J/∂b = -(1/m) * Σ(y - y_pred)\n",
      "These gradients tell us how to adjust weights and bias to reduce the error.\n",
      "\n",
      "Step 3: Gradient Descent Update Rule\n",
      "Using the gradients, we update weights and bias as follows:\n",
      "weights = weights - learning_rate * ∂J/∂w\n",
      "bias = bias - learning_rate * ∂J/∂b\n",
      "\n",
      "\n",
      "Step 4: Training Process Begins\n",
      "Number of Training Examples: 5, Features: 1\n",
      "Learning Rate: 0.02, Iterations: 1500\n",
      "Starting Gradient Descent...\n",
      "\n"
     ]
    },
    {
     "data": {
      "application/vnd.jupyter.widget-view+json": {
       "model_id": "98158bf10062470e9142546aa81a8688",
       "version_major": 2,
       "version_minor": 0
      },
      "text/plain": [
       "FigureWidget({\n",
       "    'data': [{'line': {'color': 'blue'},\n",
       "              'mode': 'lines',\n",
       "              'name': 'Cost',\n",
       "              'type': 'scatter',\n",
       "              'uid': '8f91c26b-a181-4505-b05b-a04a77177b5e',\n",
       "              'x': [],\n",
       "              'xaxis': 'x',\n",
       "              'y': [],\n",
       "              'yaxis': 'y'},\n",
       "             {'line': {'color': 'orange'},\n",
       "              'mode': 'lines',\n",
       "              'name': 'Weights',\n",
       "              'type': 'scatter',\n",
       "              'uid': '61f2bc4d-56a2-48f0-8ef4-ea39a397935b',\n",
       "              'x': [],\n",
       "              'xaxis': 'x2',\n",
       "              'y': [],\n",
       "              'yaxis': 'y2'},\n",
       "             {'line': {'color': 'green'},\n",
       "              'mode': 'lines',\n",
       "              'name': 'Bias',\n",
       "              'type': 'scatter',\n",
       "              'uid': 'a54bdd4e-5643-495c-94ed-e0df1ff72698',\n",
       "              'x': [],\n",
       "              'xaxis': 'x2',\n",
       "              'y': [],\n",
       "              'yaxis': 'y2'},\n",
       "             {'marker': {'color': 'black'},\n",
       "              'mode': 'markers',\n",
       "              'name': 'Data',\n",
       "              'type': 'scatter',\n",
       "              'uid': '96e32873-3a5b-49fb-a521-53d249d95370',\n",
       "              'x': array([1, 2, 3, 4, 5]),\n",
       "              'xaxis': 'x3',\n",
       "              'y': array([30000, 35000, 40000, 45000, 50000]),\n",
       "              'yaxis': 'y3'},\n",
       "             {'line': {'color': 'red'},\n",
       "              'mode': 'lines',\n",
       "              'name': 'Fit Line',\n",
       "              'type': 'scatter',\n",
       "              'uid': 'f1a92dc0-4410-4463-ba70-184973106e0b',\n",
       "              'x': [],\n",
       "              'xaxis': 'x3',\n",
       "              'y': [],\n",
       "              'yaxis': 'y3'}],\n",
       "    'layout': {'annotations': [{'font': {'size': 16},\n",
       "                                'showarrow': False,\n",
       "                                'text': 'Cost vs Iterations',\n",
       "                                'x': 0.14444444444444446,\n",
       "                                'xanchor': 'center',\n",
       "                                'xref': 'paper',\n",
       "                                'y': 1.0,\n",
       "                                'yanchor': 'bottom',\n",
       "                                'yref': 'paper'},\n",
       "                               {'font': {'size': 16},\n",
       "                                'showarrow': False,\n",
       "                                'text': 'Weights and Bias vs Iterations',\n",
       "                                'x': 0.5,\n",
       "                                'xanchor': 'center',\n",
       "                                'xref': 'paper',\n",
       "                                'y': 1.0,\n",
       "                                'yanchor': 'bottom',\n",
       "                                'yref': 'paper'},\n",
       "                               {'font': {'size': 16},\n",
       "                                'showarrow': False,\n",
       "                                'text': 'Data & Fit Line',\n",
       "                                'x': 0.8555555555555556,\n",
       "                                'xanchor': 'center',\n",
       "                                'xref': 'paper',\n",
       "                                'y': 1.0,\n",
       "                                'yanchor': 'bottom',\n",
       "                                'yref': 'paper'}],\n",
       "               'template': '...',\n",
       "               'title': {'text': 'Gradient Descent Process'},\n",
       "               'xaxis': {'anchor': 'y', 'domain': [0.0, 0.2888888888888889], 'title': {'text': 'Iterations'}},\n",
       "               'xaxis2': {'anchor': 'y2',\n",
       "                          'domain': [0.35555555555555557, 0.6444444444444445],\n",
       "                          'title': {'text': 'Iterations'}},\n",
       "               'xaxis3': {'anchor': 'y3', 'domain': [0.7111111111111111, 1.0], 'title': {'text': 'X'}},\n",
       "               'yaxis': {'anchor': 'x', 'domain': [0.0, 1.0], 'title': {'text': 'Cost (MSE)'}},\n",
       "               'yaxis2': {'anchor': 'x2', 'domain': [0.0, 1.0], 'title': {'text': 'Value'}},\n",
       "               'yaxis3': {'anchor': 'x3', 'domain': [0.0, 1.0], 'title': {'text': 'y'}}}\n",
       "})"
      ]
     },
     "metadata": {},
     "output_type": "display_data"
    },
    {
     "name": "stdout",
     "output_type": "stream",
     "text": [
      "Gradient Descent Complete!\n",
      "\n",
      "Training Complete\n",
      "Final Weights: [5037.78415811], Final Bias: 24863.587200\n",
      "Predictions: [29901.37135848 34939.15551659 39976.9396747  45014.72383281\n",
      " 50052.50799092]\n",
      "Mean Squared Error: 3387.063810930065\n",
      "R-squared Score: 0.9999322587237814\n"
     ]
    }
   ],
   "source": [
    "# Sample dataset (Years of Experience vs Salary)\n",
    "X = np.array([[1], [2], [3], [4], [5]])  # Feature matrix\n",
    "y = np.array([30000, 35000, 40000, 45000, 50000])  # Target vector\n",
    "\n",
    "# Initialize and train the model\n",
    "model = LinearRegression(learning_rate=0.02, iterations=1500, dive=True)\n",
    "model.fit(X, y)\n",
    "\n",
    "# Make predictions\n",
    "predictions = model.predict(X)\n",
    "\n",
    "# Evaluate the model\n",
    "mse = mean_squared_error(y.reshape(-1, 1), predictions)\n",
    "r2 = r2_score(y.reshape(-1, 1), predictions)\n",
    "\n",
    "# Print results\n",
    "# print(\"Weights:\", model.weights.flatten())\n",
    "# print(\"Bias:\", model.bias)\n",
    "print(\"Predictions:\", predictions.flatten())\n",
    "\n",
    "print(\"Mean Squared Error:\", mse)\n",
    "print(\"R-squared Score:\", r2)"
   ]
  },
  {
   "cell_type": "code",
   "execution_count": 22,
   "metadata": {
    "scrolled": true
   },
   "outputs": [
    {
     "data": {
      "application/vnd.jupyter.widget-view+json": {
       "model_id": "a040b94ec55a4ff5acd4532989d0d69e",
       "version_major": 2,
       "version_minor": 0
      },
      "text/plain": [
       "FigureWidget({\n",
       "    'data': [{'marker': {'color': 'black'},\n",
       "              'mode': 'markers',\n",
       "              'name': 'Actual Data',\n",
       "              'type': 'scatter',\n",
       "              'uid': '7fa9a8d2-cf17-47f2-8b51-5058ee68f613',\n",
       "              'x': array([1, 2, 3, 4, 5]),\n",
       "              'xaxis': 'x',\n",
       "              'y': array([30000, 35000, 40000, 45000, 50000]),\n",
       "              'yaxis': 'y'},\n",
       "             {'line': {'color': 'red'},\n",
       "              'mode': 'lines',\n",
       "              'name': 'Regression Line',\n",
       "              'type': 'scatter',\n",
       "              'uid': '758fc924-d311-460d-bd0f-42d86413cab5',\n",
       "              'x': array([1, 2, 3, 4, 5]),\n",
       "              'xaxis': 'x',\n",
       "              'y': array([29901.37135848, 34939.15551659, 39976.9396747 , 45014.72383281,\n",
       "                          50052.50799092]),\n",
       "              'yaxis': 'y'}],\n",
       "    'layout': {'template': '...',\n",
       "               'title': {'text': 'Linear Regression Prediction Line'},\n",
       "               'xaxis': {'anchor': 'y', 'domain': [0.0, 1.0], 'title': {'text': 'Years of Experience'}},\n",
       "               'yaxis': {'anchor': 'x', 'domain': [0.0, 1.0], 'title': {'text': 'Salary'}}}\n",
       "})"
      ]
     },
     "metadata": {},
     "output_type": "display_data"
    }
   ],
   "source": [
    "pb = PlotBuilder(title=\"Linear Regression Prediction Line\", x_label=\"Years of Experience\", y_label=\"Salary\")\n",
    "pb.add_plot(X, y, plot_type=\"scatter\", color=\"black\", label=\"Actual Data\")\n",
    "pb.add_plot(X, predictions, plot_type=\"line\", color=\"red\", label=\"Regression Line\")\n",
    "pb.show()"
   ]
  },
  {
   "cell_type": "code",
   "execution_count": null,
   "metadata": {},
   "outputs": [],
   "source": []
  },
  {
   "cell_type": "code",
   "execution_count": null,
   "metadata": {},
   "outputs": [],
   "source": []
  }
 ],
 "metadata": {
  "kernelspec": {
   "display_name": "diveai",
   "language": "python",
   "name": "diveai"
  },
  "language_info": {
   "codemirror_mode": {
    "name": "ipython",
    "version": 3
   },
   "file_extension": ".py",
   "mimetype": "text/x-python",
   "name": "python",
   "nbconvert_exporter": "python",
   "pygments_lexer": "ipython3",
   "version": "3.11.9"
  }
 },
 "nbformat": 4,
 "nbformat_minor": 4
}
