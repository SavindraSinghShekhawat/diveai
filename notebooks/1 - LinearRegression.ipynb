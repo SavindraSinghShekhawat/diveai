{
 "cells": [
  {
   "cell_type": "code",
   "execution_count": 1,
   "metadata": {},
   "outputs": [],
   "source": [
    "%load_ext autoreload\n",
    "%autoreload 2"
   ]
  },
  {
   "cell_type": "code",
   "execution_count": 2,
   "metadata": {},
   "outputs": [],
   "source": [
    "import numpy as np"
   ]
  },
  {
   "cell_type": "code",
   "execution_count": 3,
   "metadata": {},
   "outputs": [],
   "source": [
    "from diveai.metrics import mean_squared_error, r2_score\n",
    "from diveai.models import LinearRegression\n",
    "from diveai.visualization import PlotBuilder"
   ]
  },
  {
   "cell_type": "code",
   "execution_count": 4,
   "metadata": {
    "editable": true,
    "slideshow": {
     "slide_type": ""
    },
    "tags": []
   },
   "outputs": [
    {
     "name": "stdout",
     "output_type": "stream",
     "text": [
      "Initializing Linear Regression Model with Dive Mode Enabled\n",
      "\n",
      "Step 1: Understanding the Cost Function\n",
      "The cost function used is Mean Squared Error (MSE):\n",
      "J(w, b) = (1/m) * Σ(y - y_pred)^2\n",
      "This measures how far our predictions are from the actual values.\n",
      "\n",
      "Step 2: Deriving Gradients for Optimization\n",
      "To minimize the cost function J(w, b), we compute its partial derivatives:\n",
      "∂J/∂w = -(1/m) * Σ(X.T * (y - y_pred))\n",
      "∂J/∂b = -(1/m) * Σ(y - y_pred)\n",
      "These gradients tell us how to adjust weights and bias to reduce the error.\n",
      "\n",
      "Step 3: Gradient Descent Update Rule\n",
      "Using the gradients, we update weights and bias as follows:\n",
      "weights = weights - learning_rate * ∂J/∂w\n",
      "bias = bias - learning_rate * ∂J/∂b\n",
      "\n",
      "\n",
      "Step 4: Training Process Begins\n",
      "Number of Training Examples: 5, Features: 1\n",
      "Learning Rate: 0.02, Iterations: 1500\n",
      "Starting Gradient Descent...\n",
      "\n"
     ]
    },
    {
     "data": {
      "application/vnd.jupyter.widget-view+json": {
       "model_id": "39a1209e62074653876d7e9de45cc4ea",
       "version_major": 2,
       "version_minor": 0
      },
      "text/plain": [
       "FigureWidget({\n",
       "    'data': [{'line': {'color': 'blue'},\n",
       "              'mode': 'lines',\n",
       "              'name': 'Cost',\n",
       "              'type': 'scatter',\n",
       "              'uid': '3e40aa60-dda3-43c4-b7ba-b15c75baaaac',\n",
       "              'x': [],\n",
       "              'xaxis': 'x',\n",
       "              'y': [],\n",
       "              'yaxis': 'y'},\n",
       "             {'line': {'color': 'orange'},\n",
       "              'mode': 'lines',\n",
       "              'name': 'Weights',\n",
       "              'type': 'scatter',\n",
       "              'uid': '189b9c92-ccfe-46c0-bdd4-f5003bfb3bd3',\n",
       "              'x': [],\n",
       "              'xaxis': 'x2',\n",
       "              'y': [],\n",
       "              'yaxis': 'y2'},\n",
       "             {'line': {'color': 'green'},\n",
       "              'mode': 'lines',\n",
       "              'name': 'Bias',\n",
       "              'type': 'scatter',\n",
       "              'uid': 'dac4a52a-e6c4-4994-b906-c8158eff41d8',\n",
       "              'x': [],\n",
       "              'xaxis': 'x2',\n",
       "              'y': [],\n",
       "              'yaxis': 'y2'},\n",
       "             {'marker': {'color': 'black'},\n",
       "              'mode': 'markers',\n",
       "              'name': 'Data',\n",
       "              'type': 'scatter',\n",
       "              'uid': '133071aa-9e70-48e6-a102-3a16bdd12dc6',\n",
       "              'x': array([1, 2, 3, 4, 5]),\n",
       "              'xaxis': 'x3',\n",
       "              'y': array([30000, 35000, 40000, 45000, 50000]),\n",
       "              'yaxis': 'y3'},\n",
       "             {'line': {'color': 'red'},\n",
       "              'mode': 'lines',\n",
       "              'name': 'Fit Line',\n",
       "              'type': 'scatter',\n",
       "              'uid': 'e8281dac-0c31-4db7-b9ff-70ca92805d18',\n",
       "              'x': [],\n",
       "              'xaxis': 'x3',\n",
       "              'y': [],\n",
       "              'yaxis': 'y3'}],\n",
       "    'layout': {'annotations': [{'font': {'size': 16},\n",
       "                                'showarrow': False,\n",
       "                                'text': 'Cost vs Iterations',\n",
       "                                'x': 0.14444444444444446,\n",
       "                                'xanchor': 'center',\n",
       "                                'xref': 'paper',\n",
       "                                'y': 1.0,\n",
       "                                'yanchor': 'bottom',\n",
       "                                'yref': 'paper'},\n",
       "                               {'font': {'size': 16},\n",
       "                                'showarrow': False,\n",
       "                                'text': 'Weights and Bias vs Iterations',\n",
       "                                'x': 0.5,\n",
       "                                'xanchor': 'center',\n",
       "                                'xref': 'paper',\n",
       "                                'y': 1.0,\n",
       "                                'yanchor': 'bottom',\n",
       "                                'yref': 'paper'},\n",
       "                               {'font': {'size': 16},\n",
       "                                'showarrow': False,\n",
       "                                'text': 'Data & Fit Line',\n",
       "                                'x': 0.8555555555555556,\n",
       "                                'xanchor': 'center',\n",
       "                                'xref': 'paper',\n",
       "                                'y': 1.0,\n",
       "                                'yanchor': 'bottom',\n",
       "                                'yref': 'paper'}],\n",
       "               'template': '...',\n",
       "               'title': {'text': 'Gradient Descent Process'},\n",
       "               'xaxis': {'anchor': 'y', 'domain': [0.0, 0.2888888888888889], 'title': {'text': 'Iterations'}},\n",
       "               'xaxis2': {'anchor': 'y2',\n",
       "                          'domain': [0.35555555555555557, 0.6444444444444445],\n",
       "                          'title': {'text': 'Iterations'}},\n",
       "               'xaxis3': {'anchor': 'y3', 'domain': [0.7111111111111111, 1.0], 'title': {'text': 'X'}},\n",
       "               'yaxis': {'anchor': 'x', 'domain': [0.0, 1.0], 'title': {'text': 'Cost (MSE)'}},\n",
       "               'yaxis2': {'anchor': 'x2', 'domain': [0.0, 1.0], 'title': {'text': 'Value'}},\n",
       "               'yaxis3': {'anchor': 'x3', 'domain': [0.0, 1.0], 'title': {'text': 'y'}}}\n",
       "})"
      ]
     },
     "metadata": {},
     "output_type": "display_data"
    },
    {
     "name": "stdout",
     "output_type": "stream",
     "text": [
      "Gradient Descent Complete!\n",
      "\n",
      "Training Complete\n",
      "Final Weights: [5037.78415811], Final Bias: 24863.587200\n",
      "Predictions: [29901.37135848 34939.15551659 39976.9396747  45014.72383281\n",
      " 50052.50799092]\n",
      "Mean Squared Error: 3387.063810930065\n",
      "R-squared Score: 0.9999322587237814\n"
     ]
    }
   ],
   "source": [
    "# Sample dataset (Years of Experience vs Salary)\n",
    "X = np.array([[1], [2], [3], [4], [5]])  # Feature matrix\n",
    "y = np.array([30000, 35000, 40000, 45000, 50000])  # Target vector\n",
    "\n",
    "# Initialize and train the model\n",
    "model = LinearRegression(learning_rate=0.02, iterations=1500, dive=True)\n",
    "model.fit(X, y)\n",
    "\n",
    "# Make predictions\n",
    "predictions = model.predict(X)\n",
    "\n",
    "# Evaluate the model\n",
    "mse = mean_squared_error(y.reshape(-1, 1), predictions)\n",
    "r2 = r2_score(y.reshape(-1, 1), predictions)\n",
    "\n",
    "# Print results\n",
    "# print(\"Weights:\", model.weights.flatten())\n",
    "# print(\"Bias:\", model.bias)\n",
    "print(\"Predictions:\", predictions.flatten())\n",
    "\n",
    "print(\"Mean Squared Error:\", mse)\n",
    "print(\"R-squared Score:\", r2)"
   ]
  },
  {
   "cell_type": "code",
   "execution_count": 5,
   "metadata": {},
   "outputs": [
    {
     "data": {
      "application/vnd.jupyter.widget-view+json": {
       "model_id": "15419819aad140fd8ce811953c33f5ec",
       "version_major": 2,
       "version_minor": 0
      },
      "text/plain": [
       "FigureWidget({\n",
       "    'data': [{'marker': {'color': 'blue'},\n",
       "              'mode': 'markers',\n",
       "              'name': 'Actual Data',\n",
       "              'type': 'scatter',\n",
       "              'uid': '3a26c8fd-7427-4b49-ba81-4cb2499a8444',\n",
       "              'x': array([1, 2, 3, 4, 5]),\n",
       "              'xaxis': 'x',\n",
       "              'y': array([30000, 35000, 40000, 45000, 50000]),\n",
       "              'yaxis': 'y'},\n",
       "             {'line': {'color': 'red'},\n",
       "              'mode': 'lines',\n",
       "              'name': 'Regression Line',\n",
       "              'type': 'scatter',\n",
       "              'uid': '336edd07-4849-4f65-9a12-bb8678fcf982',\n",
       "              'x': array([1, 2, 3, 4, 5]),\n",
       "              'xaxis': 'x',\n",
       "              'y': array([29901.37135848, 34939.15551659, 39976.9396747 , 45014.72383281,\n",
       "                          50052.50799092]),\n",
       "              'yaxis': 'y'}],\n",
       "    'layout': {'template': '...',\n",
       "               'title': {'text': 'Linear Regression Prediction Line'},\n",
       "               'xaxis': {'anchor': 'y', 'domain': [0.0, 1.0], 'title': {'text': 'Years of Experience'}},\n",
       "               'yaxis': {'anchor': 'x', 'domain': [0.0, 1.0], 'title': {'text': 'Salary'}}}\n",
       "})"
      ]
     },
     "metadata": {},
     "output_type": "display_data"
    }
   ],
   "source": [
    "pb = PlotBuilder(title=\"Linear Regression Prediction Line\", x_label=\"Years of Experience\", y_label=\"Salary\")\n",
    "pb.add_plot(X, y, plot_type=\"scatter\", color=\"blue\", label=\"Actual Data\")\n",
    "pb.add_plot(X, predictions, plot_type=\"line\", color=\"red\", label=\"Regression Line\")\n",
    "pb.show()"
   ]
  },
  {
   "cell_type": "code",
   "execution_count": null,
   "metadata": {},
   "outputs": [],
   "source": []
  },
  {
   "cell_type": "code",
   "execution_count": null,
   "metadata": {},
   "outputs": [],
   "source": []
  }
 ],
 "metadata": {
  "kernelspec": {
   "display_name": "diveai",
   "language": "python",
   "name": "diveai"
  },
  "language_info": {
   "codemirror_mode": {
    "name": "ipython",
    "version": 3
   },
   "file_extension": ".py",
   "mimetype": "text/x-python",
   "name": "python",
   "nbconvert_exporter": "python",
   "pygments_lexer": "ipython3",
   "version": "3.11.9"
  }
 },
 "nbformat": 4,
 "nbformat_minor": 4
}
